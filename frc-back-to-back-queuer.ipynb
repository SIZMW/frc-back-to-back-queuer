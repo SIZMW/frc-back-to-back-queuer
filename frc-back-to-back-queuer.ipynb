{
 "cells": [
  {
   "cell_type": "code",
   "execution_count": null,
   "metadata": {
    "collapsed": false
   },
   "outputs": [],
   "source": [
    "import requests\n",
    "import json\n",
    "import csv\n",
    "\n",
    "URL = 'http://www.thebluealliance.com/api/v2'\n",
    "EVENT_URL = '/event/'\n",
    "MATCHES_URL = '/matches'\n",
    "EVENT_ID = '2017mawor' # Modify for specific event\n",
    "\n",
    "HEADER_KEY = 'X-TBA-App-Id'\n",
    "HEADER_VAL = 'frc:test-queuer:v01'\n",
    "\n",
    "QUALIFICATION_ID = 'qm'\n",
    "MATCHES_OUT_MAX = 4\n",
    "\n",
    "output_file = 'schedule.tsv'"
   ]
  },
  {
   "cell_type": "code",
   "execution_count": null,
   "metadata": {
    "collapsed": false
   },
   "outputs": [],
   "source": [
    "def get_team_str(team):\n",
    "    if team['next_match'] is not None:\n",
    "        return '{} ({})'.format(team['team'], team['next_match'])\n",
    "    else:\n",
    "        return team['team']\n",
    "\n",
    "class Match:\n",
    "    match_num = -1\n",
    "    teams = None\n",
    "    \n",
    "    def __init__(self, match_num, blue_teams, red_teams):\n",
    "        self.match_num = match_num\n",
    "        self.teams = dict()\n",
    "        \n",
    "        for i in range(len(blue_teams)):\n",
    "            self.teams['B{}'.format(i + 1)] = {'team': blue_teams[i][3:], 'next_match': None}\n",
    "        \n",
    "        for i in range(len(red_teams)):\n",
    "            self.teams['R{}'.format(i + 1)] = {'team': red_teams[i][3:], 'next_match': None}\n",
    "    \n",
    "    def __str__(self):\n",
    "        return '{:2d}: Blue:{},{},{} | Red:{},{},{}'.format(self.match_num,\n",
    "                                            get_team_str(self.teams['B1']),\n",
    "                                            get_team_str(self.teams['B2']),\n",
    "                                            get_team_str(self.teams['B3']),\n",
    "                                            get_team_str(self.teams['R1']),\n",
    "                                            get_team_str(self.teams['R2']),\n",
    "                                            get_team_str(self.teams['R3']))\n",
    "\n",
    "    def __repr(self):\n",
    "        return '{:2d}: Blue:{},{},{} | Red:{},{},{}'.format(self.match_num,\n",
    "                                            get_team_str(self.teams['B1']),\n",
    "                                            get_team_str(self.teams['B2']),\n",
    "                                            get_team_str(self.teams['B3']),\n",
    "                                            get_team_str(self.teams['R1']),\n",
    "                                            get_team_str(self.teams['R2']),\n",
    "                                            get_team_str(self.teams['R3']))"
   ]
  },
  {
   "cell_type": "code",
   "execution_count": null,
   "metadata": {
    "collapsed": true
   },
   "outputs": [],
   "source": [
    "def get_event_matches(event_id):\n",
    "    request_url = URL + EVENT_URL + event_id + MATCHES_URL\n",
    "    response = requests.get(request_url, headers={HEADER_KEY: HEADER_VAL})\n",
    "    json_response = response.json()\n",
    "    \n",
    "    return json_response\n",
    "\n",
    "json_response = get_event_matches(EVENT_ID)"
   ]
  },
  {
   "cell_type": "code",
   "execution_count": null,
   "metadata": {
    "collapsed": false,
    "scrolled": true
   },
   "outputs": [],
   "source": [
    "matches = []\n",
    "\n",
    "for match in json_response:\n",
    "    if match['comp_level'] == QUALIFICATION_ID:\n",
    "        matches.append(Match(match['match_number'], match['alliances']['blue']['teams'], match['alliances']['red']['teams']))\n",
    "        \n",
    "matches = sorted(matches, key=lambda x : x.match_num, reverse=False)\n",
    "\n",
    "matches_count = len(matches)\n",
    "\n",
    "def search_alliance_teams(all_matches, total_match_count, current_match):\n",
    "    for team in current_match.teams.values():\n",
    "        for next_index in range(1, MATCHES_OUT_MAX + 1):\n",
    "            next_match_index = index + next_index\n",
    "            if next_match_index >= total_match_count:\n",
    "                continue\n",
    "            \n",
    "            next_match = all_matches[next_match_index]\n",
    "            \n",
    "            update_back_to_back_from_next_alliance(team, next_match, next_index)\n",
    "\n",
    "def update_back_to_back_from_next_alliance(current_team, next_match, match_index_out):\n",
    "    for next_team_key in next_match.teams.keys():\n",
    "        next_team_val = next_match.teams[next_team_key]\n",
    "        if current_team['team'] == next_team_val['team']:\n",
    "            current_team['next_match'] = 'M{}:{}:+{}'.format(next_match.match_num, next_team_key, match_index_out)\n",
    "            \n",
    "for index in range(matches_count):\n",
    "    match = matches[index]\n",
    "    search_alliance_teams(matches, matches_count, match)\n",
    "\n",
    "for match in matches:\n",
    "    print match"
   ]
  },
  {
   "cell_type": "code",
   "execution_count": null,
   "metadata": {
    "collapsed": false
   },
   "outputs": [],
   "source": [
    "with open(output_file, \"wb\") as tsv_file:\n",
    "    writer = csv.writer(tsv_file, delimiter='\\t', quotechar='\"', quoting=csv.QUOTE_NONE)\n",
    "    writer.writerow(['Match Number', 'Blue 1', 'Blue 2', 'Blue 3', 'Red 1', 'Red 2', 'Red 3'])\n",
    "    \n",
    "    for match in matches:\n",
    "        writer.writerow([match.match_num, get_team_str(match.teams['B1']), get_team_str(match.teams['B2']),\n",
    "                         get_team_str(match.teams['B3']), get_team_str(match.teams['R1']), \n",
    "                         get_team_str(match.teams['R2']), get_team_str(match.teams['R3'])])\n",
    "    print 'Wrote output to {}'.format(output_file)"
   ]
  }
 ],
 "metadata": {
  "kernelspec": {
   "display_name": "Python [default]",
   "language": "python",
   "name": "python2"
  },
  "language_info": {
   "codemirror_mode": {
    "name": "ipython",
    "version": 2
   },
   "file_extension": ".py",
   "mimetype": "text/x-python",
   "name": "python",
   "nbconvert_exporter": "python",
   "pygments_lexer": "ipython2",
   "version": "2.7.12"
  }
 },
 "nbformat": 4,
 "nbformat_minor": 2
}
